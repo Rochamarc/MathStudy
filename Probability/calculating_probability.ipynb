{
 "cells": [
  {
   "cell_type": "code",
   "execution_count": 1,
   "id": "8482b83e-2136-4db4-8391-9c12078dcb29",
   "metadata": {},
   "outputs": [],
   "source": [
    "from main import make_choice, calculate_probability, make_better_choice"
   ]
  },
  {
   "cell_type": "code",
   "execution_count": 2,
   "id": "69e552e9-4b41-4150-b203-bf2e4e295fdc",
   "metadata": {},
   "outputs": [],
   "source": [
    "# lets conduct a test with 50, 60, 70, 80, 90 and 100 to try to find a pattern\n",
    "\n",
    "tests = {}\n",
    "\n",
    "for i in range(50, 110, 10):\n",
    "    tests[f'{i}'] = [ make_choice(i) for _ in range(10) ]  "
   ]
  },
  {
   "cell_type": "code",
   "execution_count": 3,
   "id": "8007ac08-e075-48c8-a90c-b51095f4d211",
   "metadata": {},
   "outputs": [
    {
     "data": {
      "text/plain": [
       "{'50': [True, False, True, True, False, True, False, False, True, True],\n",
       " '60': [True, True, True, True, False, False, True, True, False, True],\n",
       " '70': [True, True, True, True, False, True, True, True, True, False],\n",
       " '80': [True, False, True, True, False, True, True, False, False, True],\n",
       " '90': [True, True, True, True, True, True, True, True, True, True],\n",
       " '100': [True, True, True, True, True, True, True, True, True, True]}"
      ]
     },
     "execution_count": 3,
     "metadata": {},
     "output_type": "execute_result"
    }
   ],
   "source": [
    "tests"
   ]
  },
  {
   "cell_type": "code",
   "execution_count": 4,
   "id": "8b379973-fe10-463f-ab0d-a9107f5415e3",
   "metadata": {},
   "outputs": [
    {
     "name": "stdout",
     "output_type": "stream",
     "text": [
      "{'true': 0.6, 'false': 0.4}\n",
      "{'true': 0.7, 'false': 0.3}\n",
      "{'true': 0.8, 'false': 0.2}\n",
      "{'true': 0.6, 'false': 0.4}\n",
      "{'true': 1.0, 'false': 0.0}\n",
      "{'true': 1.0, 'false': 0.0}\n"
     ]
    }
   ],
   "source": [
    "# This shows that this function is too random, doesnt have a pattern, except on 100\n",
    "\n",
    "for i in tests.items():\n",
    "    print(calculate_probability(i[-1]))"
   ]
  },
  {
   "cell_type": "code",
   "execution_count": 7,
   "id": "1e2c8b62-3129-4c42-be6d-8b87ab10eba6",
   "metadata": {},
   "outputs": [],
   "source": [
    "tests = {}\n",
    "\n",
    "for i in range(50, 110, 10):\n",
    "    tests[f'{i}'] = [ make_better_choice(i) for _ in range(10) ]  "
   ]
  },
  {
   "cell_type": "code",
   "execution_count": 8,
   "id": "16b75828-1622-46df-926f-2440faacecc0",
   "metadata": {},
   "outputs": [
    {
     "name": "stdout",
     "output_type": "stream",
     "text": [
      "{'true': 0.7, 'false': 0.3}\n",
      "{'true': 0.4, 'false': 0.6}\n",
      "{'true': 0.7, 'false': 0.3}\n",
      "{'true': 0.7, 'false': 0.3}\n",
      "{'true': 0.8, 'false': 0.2}\n",
      "{'true': 1.0, 'false': 0.0}\n"
     ]
    }
   ],
   "source": [
    "for i in tests.items():\n",
    "    print(calculate_probability(i[-1]))"
   ]
  },
  {
   "cell_type": "code",
   "execution_count": null,
   "id": "43dd2011-d466-4bb1-bab2-d9c7fccea341",
   "metadata": {},
   "outputs": [],
   "source": []
  }
 ],
 "metadata": {
  "kernelspec": {
   "display_name": "Python 3 (ipykernel)",
   "language": "python",
   "name": "python3"
  },
  "language_info": {
   "codemirror_mode": {
    "name": "ipython",
    "version": 3
   },
   "file_extension": ".py",
   "mimetype": "text/x-python",
   "name": "python",
   "nbconvert_exporter": "python",
   "pygments_lexer": "ipython3",
   "version": "3.10.12"
  }
 },
 "nbformat": 4,
 "nbformat_minor": 5
}
