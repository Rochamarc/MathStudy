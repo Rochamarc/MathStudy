{
 "cells": [
  {
   "cell_type": "code",
   "execution_count": 2,
   "id": "2589a1e2-798f-451d-85e1-b292be359c27",
   "metadata": {},
   "outputs": [],
   "source": [
    "from lib import simple_average"
   ]
  },
  {
   "cell_type": "code",
   "execution_count": 3,
   "id": "bbe1b574-8660-4ba6-bf86-3de94492c21d",
   "metadata": {},
   "outputs": [],
   "source": [
    "from random import randint"
   ]
  },
  {
   "cell_type": "code",
   "execution_count": 4,
   "id": "c56cdce2-0047-46f8-b9ce-b9ddf50d21c6",
   "metadata": {},
   "outputs": [],
   "source": [
    "# creat a number for goals for 20 games \n",
    "\n",
    "cf_man = [1, 0, 0, 1, 2, 1, 3, 0, 0, 0, 0, 0, 2, 1, 2, 1, 2, 0, 0, 0]\n",
    "cf_aut = [ randint(0,3) for _ in range(20) ]"
   ]
  },
  {
   "cell_type": "code",
   "execution_count": 7,
   "id": "d24269f8-c459-4c27-a365-f841072067bf",
   "metadata": {},
   "outputs": [
    {
     "data": {
      "text/plain": [
       "0.8"
      ]
     },
     "execution_count": 7,
     "metadata": {},
     "output_type": "execute_result"
    }
   ],
   "source": [
    "simple_average(cf_man)"
   ]
  },
  {
   "cell_type": "code",
   "execution_count": 8,
   "id": "c07318d3-0c60-4673-af4b-bbf973db216d",
   "metadata": {},
   "outputs": [
    {
     "data": {
      "text/plain": [
       "1.15"
      ]
     },
     "execution_count": 8,
     "metadata": {},
     "output_type": "execute_result"
    }
   ],
   "source": [
    "simple_average(cf_aut)"
   ]
  },
  {
   "cell_type": "code",
   "execution_count": null,
   "id": "31f59544-4fe5-4da0-b88a-2dd1f01b701e",
   "metadata": {},
   "outputs": [],
   "source": []
  }
 ],
 "metadata": {
  "kernelspec": {
   "display_name": "Python 3 (ipykernel)",
   "language": "python",
   "name": "python3"
  },
  "language_info": {
   "codemirror_mode": {
    "name": "ipython",
    "version": 3
   },
   "file_extension": ".py",
   "mimetype": "text/x-python",
   "name": "python",
   "nbconvert_exporter": "python",
   "pygments_lexer": "ipython3",
   "version": "3.10.12"
  }
 },
 "nbformat": 4,
 "nbformat_minor": 5
}
